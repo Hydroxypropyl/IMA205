{
  "nbformat": 4,
  "nbformat_minor": 0,
  "metadata": {
    "colab": {
      "provenance": [],
      "collapsed_sections": [
        "JmaX74-un17m",
        "hUxjO9crNfBo",
        "qAheaSK1taFv"
      ]
    },
    "kernelspec": {
      "name": "python3",
      "display_name": "Python 3"
    },
    "language_info": {
      "name": "python"
    }
  },
  "cells": [
    {
      "cell_type": "markdown",
      "source": [
        "CHALLENGE IMA 205 : classification of cardiomyopathic diseases. <br>\n",
        "Student : Manon Heffernan <br>\n",
        "Acamedic year : 2022-2023"
      ],
      "metadata": {
        "id": "A5Ltf5P7nV7l"
      }
    },
    {
      "cell_type": "markdown",
      "source": [
        "#Imports\n"
      ],
      "metadata": {
        "id": "hw8PIBkvOJ8D"
      }
    },
    {
      "cell_type": "code",
      "source": [
        "import os\n",
        "import numpy as np\n",
        "import pandas as pd #to read the csv\n",
        "from skimage.io import imread\n",
        "import matplotlib.pyplot as plt\n",
        "import nibabel as nib\n",
        "from google.colab import files\n",
        "from sklearn.model_selection import train_test_split\n",
        "# Standardization/Normalization\n",
        "from sklearn.preprocessing import StandardScaler, MinMaxScaler\n",
        "\n",
        "import scipy.ndimage as ndi\n",
        "from scipy.ndimage import binary_dilation\n",
        "from scipy.ndimage import distance_transform_edt\n",
        "\n",
        "import torch\n",
        "import csv\n",
        "from torch.utils.data import DataLoader\n",
        "import random\n",
        "import torch.nn as nn\n",
        "import torch.nn.functional as F\n",
        "import torch.optim as optim\n",
        "\n",
        "\n",
        "print(torch.__version__,\"\\n\", np.__version__,\"\\n\", pd.__version__,\"\\n\", csv.__version__,\"\\n\", nib.__version__)\n",
        "\n"
      ],
      "metadata": {
        "id": "Oh_1R46VQYJ0",
        "colab": {
          "base_uri": "https://localhost:8080/"
        },
        "outputId": "af64bd2b-0c09-4287-97ea-108a23b56ac0"
      },
      "execution_count": null,
      "outputs": [
        {
          "output_type": "stream",
          "name": "stdout",
          "text": [
            "2.0.0+cu118 \n",
            " 1.22.4 \n",
            " 1.5.3 \n",
            " 1.0 \n",
            " 3.0.2\n"
          ]
        }
      ]
    },
    {
      "cell_type": "markdown",
      "source": [
        "Versions : \n",
        "torch : 2.0.0+cu118\n",
        "numpy : 1.22.4\n",
        "pandas : 1.5.3\n",
        "csv : 1.0\n",
        "nibabel : 3.0.2"
      ],
      "metadata": {
        "id": "hb-n_7Z39frd"
      }
    },
    {
      "cell_type": "markdown",
      "source": [
        "# Defining global variables\n",
        "Make sure to properly define the paths to all the different files : the .csv for the training labels, the training and test features files."
      ],
      "metadata": {
        "id": "b-2SxCbixSZt"
      }
    },
    {
      "cell_type": "code",
      "source": [
        "Manon = False\n",
        "\n",
        "if Manon : \n",
        "  from google.colab import drive\n",
        "  drive.mount('/content/drive')\n",
        "  my_path = \"/content/drive/MyDrive/ima205-challenge-2023/\" \n",
        "\n",
        "  csv_train_path = my_path+ \"metaDataTrain.csv\"\n",
        "  csv_test_path = my_path +\"metaDataTest.csv\"\n",
        "  features_train_path = my_path + \"features_train_heffernan.txt\"\n",
        "  features_test_path = my_path + \"features_test_heffernan.txt\"\n",
        "  # Set the paths to the \"train\" and \"test\" folders\n",
        "  train_path = my_path + \"/Train\"\n",
        "  test_path = my_path + \"/Test\"\n",
        "\n",
        "  train_and_validation = False #set this variable to True if using a training-validation set\n",
        "  Test = True #set this variable to True to display the different tests related to the feature computation\n",
        "\n",
        "else : \n",
        "  #if you're using colab, then indicate the path to the different following folders;\n",
        "  #you also have the option later on to run the classification directly from the features files that I provided.\n",
        "\n",
        "  my_path = ... #to use if all your data from the challenge is at the same place\n",
        "  csv_path = ... + \"metaDataTrain.csv\"\n",
        "  features_train_path = ... + \"features_train_heffernan.txt\"\n",
        "  features_test_path = ... + \"features_test_heffernan.txt\"\n",
        "  # Set the paths to the \"train\" and \"test\" folders\n",
        "  train_path = ... + \"/Train\"\n",
        "  test_path = ... + \"/Test\"\n",
        "\n",
        "  train_and_validation = ... #set this variable to True if using a training-validation set \n",
        "  Test = ... #set this variable to True to display the different tests related to the feature computation\n",
        "\n"
      ],
      "metadata": {
        "colab": {
          "base_uri": "https://localhost:8080/"
        },
        "id": "xA1RNOeBwvGG",
        "outputId": "2c513f68-cc8a-4f45-9ba6-3c3943e58c7d"
      },
      "execution_count": null,
      "outputs": [
        {
          "output_type": "stream",
          "name": "stdout",
          "text": [
            "Drive already mounted at /content/drive; to attempt to forcibly remount, call drive.mount(\"/content/drive\", force_remount=True).\n"
          ]
        }
      ]
    },
    {
      "cell_type": "code",
      "source": [
        "## rename labels\n",
        "background = 0\n",
        "right_ventricle = 1\n",
        "myocardium = 2\n",
        "left_ventricle = 3"
      ],
      "metadata": {
        "id": "9rR-p-G2xXyR"
      },
      "execution_count": null,
      "outputs": []
    },
    {
      "cell_type": "markdown",
      "source": [
        "# First tests to get familiar with the data"
      ],
      "metadata": {
        "id": "PK0K_dVRfaJj"
      }
    },
    {
      "cell_type": "code",
      "source": [
        "if Test :\n",
        "  #Loading classes for each image in training dataset\n",
        "  train_classes = pd.read_csv(csv_train_path)\n",
        "  test_classes = pd.read_csv(csv_test_path)\n",
        "  train_classes.head()\n",
        "  print(\"info for image with id 2 :\\n\",train_classes.loc[1])\n",
        "\n",
        "  # getting to understand how the data is represented\n",
        "  seg = nib.load(my_path + '/Train/001/001_ED_seg.nii')\n",
        "  seg_data=seg.get_fdata()\n",
        "  print(\"image shape:\",seg.shape)\n",
        "  seg = np.array(seg_data)[:,:,5]\n",
        "  print(seg[100, 100:120])\n",
        "\n",
        "  mri = nib.load(my_path + '/Train/001/001_ED.nii')\n",
        "  mri_data=mri.get_fdata()\n",
        "  mri = np.array(mri_data)[:,:,5]\n",
        "\n",
        "  fig, ax = plt.subplots(1, 2)\n",
        "\n",
        "  mri_im = ax[0].imshow(mri, cmap=\"gray\")\n",
        "  seg_im = ax[1].imshow(seg)\n",
        "  # Add a colorbar next to the image\n",
        "  cbar = fig.colorbar(seg_im, ax=ax, ticks = [0, 1, 2, 3], shrink = 0.5)\n",
        "  cbar.ax.set_ylabel('Value', rotation=270)\n",
        "\n",
        "  # Show the plot\n",
        "  plt.show()    "
      ],
      "metadata": {
        "id": "Yg_BcCfcQYQt",
        "colab": {
          "base_uri": "https://localhost:8080/",
          "height": 374
        },
        "outputId": "682b22df-bcfb-4246-9595-5050ce72fb6a"
      },
      "execution_count": null,
      "outputs": [
        {
          "output_type": "stream",
          "name": "stdout",
          "text": [
            "info for image with id 2 :\n",
            " Id            2.0\n",
            "Category      2.0\n",
            "Height      160.0\n",
            "Weight       70.0\n",
            "Name: 1, dtype: float64\n",
            "image shape: (216, 256, 10)\n",
            "[0. 0. 0. 2. 2. 2. 2. 2. 2. 3. 3. 3. 3. 3. 3. 3. 3. 3. 3. 3.]\n"
          ]
        },
        {
          "output_type": "display_data",
          "data": {
            "text/plain": [
              "<Figure size 640x480 with 3 Axes>"
            ],
            "image/png": "[encoded data removed]"
          },
          "metadata": {}
        }
      ]
    },
    {
      "cell_type": "markdown",
      "source": [
        "# FEATURES COMPUTATION : FUNCTIONS"
      ],
      "metadata": {
        "id": "BnK2BZbyfj5I"
      }
    },
    {
      "cell_type": "markdown",
      "source": [
        "## VOXEL VOLUME"
      ],
      "metadata": {
        "id": "JmaX74-un17m"
      }
    },
    {
      "cell_type": "code",
      "source": [
        "def voxel_volume(nib_loaded_seg, label):\n",
        "  \"\"\"\n",
        "  This function computes the voxel volume in `nib_loaded_image` corresponding to the zone with the label `label`.\n",
        "\n",
        "  Parameters : \n",
        "  -------------\n",
        "  nib_loaded_seg : the image loaded with nib\n",
        "  label : int\n",
        "\n",
        "  Returns : \n",
        "  -------------\n",
        "  Float volume in ml.\n",
        "  \"\"\"\n",
        "  img_data=nib_loaded_seg.get_fdata()\n",
        "  voxel_volume = np.prod(nib_loaded_seg.header.get_zooms()) # Gets the voxel volume in mm³\n",
        "  # Compute the total number of voxels with correct label in the segmentation image\n",
        "  num_voxels = np.sum(abs(img_data - label) < 1e-4)\n",
        "  # Compute the total volume of the zone\n",
        "  zone_volume = num_voxels * voxel_volume / 1000 #dividing to get the result in ml instead of mm³\n",
        "  return zone_volume"
      ],
      "metadata": {
        "id": "TJf6ZLGXdODF"
      },
      "execution_count": null,
      "outputs": []
    },
    {
      "cell_type": "code",
      "source": [
        "if Test :\n",
        "  seg_ED = nib.load(my_path + '/Train/001/001_ED_seg.nii')\n",
        "  seg_ES = nib.load(my_path + '/Train/001/001_ES_seg.nii')\n",
        "\n",
        "  print(\"The volume of left ventricle in diastole is {:.2f} ml\".format(voxel_volume(seg_ED, left_ventricle)))\n",
        "  print(\"The volume of right ventricle in diastole is {:.2f} ml\".format(voxel_volume(seg_ED, right_ventricle)))\n",
        "\n",
        "  print(\"The volume of left ventricle in systole is {:.2f} ml\".format(voxel_volume(seg_ES, left_ventricle)))\n",
        "  print(\"The volume of right ventricle in systole is {:.2f} ml\".format(voxel_volume(seg_ES, right_ventricle)))"
      ],
      "metadata": {
        "id": "K4XoFhSMoFht"
      },
      "execution_count": null,
      "outputs": []
    },
    {
      "cell_type": "markdown",
      "source": [
        "### REFERENCES VALUES\n",
        "According to the table on this [Wikipedia page](https://en.wikipedia.org/w/index.php?title=End-systolic_volume&oldid=1124405560://), here are the standard volume values :\n",
        "\n",
        "\n",
        "end diastolic volume:\n",
        "- left ventricle: 142 mL (± 21 mL)\n",
        "- right ventricle :144 mL (± 23 mL)\n",
        "\n",
        "end systolic volume:\n",
        "- left ventricle :\t47 mL (± 10 mL)\n",
        "- right ventricle :50 mL (± 14 mL)\n",
        "\n",
        "On the previous example, with subject 002, we can see that the results for the left ventricle are way out of norm. And the label associated to this subject is 2, meaning dilated cardiomyopathy.This disease is caracterised by an enlargment of the ventricles (thinning of the wall an stretching), and it starts in the left ventricle ([ref](https://www.heart.org/en/health-topics/cardiomyopathy/what-is-cardiomyopathy-in-adults/dilated-cardiomyopathy-dcm))."
      ],
      "metadata": {
        "id": "Voz5brICTuq_"
      }
    },
    {
      "cell_type": "markdown",
      "source": [
        "## CARDIAC MUSCLE THICKNESS\n",
        "Here, I'm just working on one image, to try and compute the maximum muscle thickness. This function will be used later on, on the different images."
      ],
      "metadata": {
        "id": "qgxKEb6bfm0R"
      }
    },
    {
      "cell_type": "code",
      "source": [
        "def muscle_thickness(nib_loaded_seg_img) :\n",
        "  \"\"\"\n",
        "  Computes the maximum myocardium thickness\n",
        "\n",
        "  Parameters : \n",
        "  -----------\n",
        "  `nib_loaded_seg_img` : the segmentation image loaded with nib\n",
        "\n",
        "  Returns : \n",
        "  ----------\n",
        "  Float thickness\n",
        "  \"\"\"\n",
        "  seg_data = nib_loaded_seg_img.get_fdata()\n",
        "\n",
        "  # Create a binary mask of the cardiac tissue, aka myocardium (label 2)\n",
        "  cardiac_mask = (np.abs(seg_data-myocardium) < 1e-4).astype(np.uint8)\n",
        "\n",
        "  # Dilate the mask to fill gaps and ensure connectivity\n",
        "  cardiac_mask = binary_dilation(cardiac_mask)\n",
        "\n",
        "  # Compute the distance transform of the binary mask\n",
        "  dist_transform = distance_transform_edt(cardiac_mask) #this gets the shortest distance between non-zero values and zero-values\n",
        "\n",
        "  # Find the maximum value of the distance transform along the axis perpendicular to the heart axis\n",
        "  axis = 1  #heart axis is the x-axis (axis 1)\n",
        "  thickness = np.max(np.max(dist_transform, axis=axis)) #this would actually be half the distance, because maximum distance would be for the points in the middle of the muscle wall\n",
        "  return thickness"
      ],
      "metadata": {
        "id": "tkhJq4r2fimF"
      },
      "execution_count": null,
      "outputs": []
    },
    {
      "cell_type": "code",
      "source": [
        "# Load the segmentation image\n",
        "seg_img = nib.load(my_path + '/Train/001/001_ED_seg.nii')\n",
        "\n",
        "thickness = muscle_thickness(seg_img)\n",
        "print(\"The maximum thickness of the cardiac muscle is roughly 2x{} millimeters\".format(thickness))"
      ],
      "metadata": {
        "colab": {
          "base_uri": "https://localhost:8080/"
        },
        "id": "abbc2gHFn-Qw",
        "outputId": "73937213-6ebb-468f-c58f-e436cdef217c"
      },
      "execution_count": null,
      "outputs": [
        {
          "output_type": "stream",
          "name": "stdout",
          "text": [
            "The maximum thickness of the cardiac muscle is 4.0 millimeters\n"
          ]
        }
      ]
    },
    {
      "cell_type": "markdown",
      "source": [
        "### REFERENCE VALUES\n",
        "The myocardium is segmented around the left ventricle. \n",
        "\n",
        "-[This paper](https://www.ncbi.nlm.nih.gov/pmc/articles/PMC2396316/) indicates 8.6±2.1 mm for end-diastolic thickness.\n",
        "\n",
        "The training subject 001 has label 2, meaning dilated cardiomyopathy, which is linked to a thinning of the left ventricle wall (aka myocardium). The maximum value is 2$\\times$4.0 = 8.0 millimiters, which is in the norm. Since the function I have implemented returns the smallest between the non-zero points and the closest zero points, the highest value would actually be for the points on the midline of the cardiac muscle, but the distance would only be half the full thickness. Therefore, the real medical measure would correspond to twice the distance outputed by my function."
      ],
      "metadata": {
        "id": "K7kVJ5qHbGwS"
      }
    },
    {
      "cell_type": "markdown",
      "source": [
        "## EJECTION FRACTION\n",
        "\n",
        "The ejection fraction corresponds to the ratio between the stroke volume and the end-diastolic volume. The stroke volume is the difference between the end-diastolic volume and end-systolic volume.\n",
        "That is : \n",
        "$$ EF = \\frac{(EDV - ESV)}{EDV}$$"
      ],
      "metadata": {
        "id": "BiraJhRXXeD0"
      }
    },
    {
      "cell_type": "code",
      "source": [
        "def ejection_fraction(EDV, ESV) :\n",
        "  \"\"\"\n",
        "  Computes the ejection fraction\n",
        "\n",
        "  Parameters : \n",
        "  ------------\n",
        "  `EDV` : end-diastolic volume\n",
        "  `ESV` : end-systolic volume\n",
        "  \"\"\"\n",
        "\n",
        "  if EDV > 0 :\n",
        "    return (EDV - ESV)/(EDV)\n",
        "  else :\n",
        "    return 0"
      ],
      "metadata": {
        "id": "wfszy8ylXdYW"
      },
      "execution_count": null,
      "outputs": []
    },
    {
      "cell_type": "markdown",
      "source": [
        "### REFERENCE VALUES ([source](https://en.wikipedia.org/wiki/Ejection_fraction))\n",
        "- left ventricle : 66% (± 6%) \t\n",
        "- right venrticle : 67% (± 4.6%)"
      ],
      "metadata": {
        "id": "PE6LCdfeoSaU"
      }
    },
    {
      "cell_type": "markdown",
      "source": [
        "# BUILDING THE LISTS OF FEATURES\n",
        "First round I decided that each subject would have the following features:\n",
        "1. myocardium thickness,\n",
        "2. EDV(myocardium),\n",
        "3. ESV (myocardium),\n",
        "4. EDV (left ventricle),\n",
        "5. ESV (left ventricle),\n",
        "6. EDV (right ventricle), \n",
        "7. ESV (right ventricle),\n",
        "8. Ejection fraction (left ventricle), \n",
        "9. Ejection fraction (right ventricle), \n",
        "10. ratio between EDV left/EDV right,\n",
        "11. ratio between ESV left/ESV right,\n",
        "12. ratio between EDV myocardium/EDV left,\n",
        "13. ratio between ESV myocardium/ESV left,\n",
        "14. weight,\n",
        "15. height.\n",
        "\n",
        "Those choices are motivated by [this article](https://link.springer.com/chapter/10.1007/978-3-319-75541-0_11), precisely the following extract : <br>\n",
        "Each patient was described by patient and image characteristics. Patient characteristics were patient weight (in kg) and patient height (in cm). Image characteristics were extracted from the automatically obtained segmentations: LV, RV and myocardial volume at ED and ES (in ml), the LV and RV ejection fraction (EF), the ratio between RV and LV volume at ED and ES, and the ratio between myocardial and LV volume at ED and ES. Hence, 14 features were used in total: 2 patient-based and 12 image-based features.\n",
        "\n",
        "I've reused all those features and included the maximum thickness of the myocardium."
      ],
      "metadata": {
        "id": "hUxjO9crNfBo"
      }
    },
    {
      "cell_type": "code",
      "source": [
        "def extract_features(path_to_folder, train_set = True):\n",
        "  \"\"\"\n",
        "  Extracts the features from given set (train or test), saves those features in a file.\n",
        "  Parameters : \n",
        "  -------------\n",
        "  `path_to_folder`:\n",
        "  `train_set` : boolean\n",
        "  True if computing the features on the train set.\n",
        "  False if computing the features on the test set.\n",
        "\n",
        "  Returns : \n",
        "  -------------\n",
        "  The list of the features, of shape (number_subjects, number_features). The features are also saved in a file so they only need to be computed once.\n",
        "  \"\"\"\n",
        "  if train_set :\n",
        "    file_name= 'features_train_heffernan.txt'\n",
        "  else : \n",
        "    file_name ='features_test_heffernan.txt'\n",
        "  with open(file_name, 'w') as f:\n",
        "    f.truncate(0)\n",
        "    if train_set:\n",
        "      features = [[] for i in range(100)]\n",
        "    else : \n",
        "      features = [[] for i in range(50)]\n",
        "    # Loop through each folder in the \"Train\" (or \"Test\") folder\n",
        "    for folder_name in os.listdir(path_to_folder):\n",
        "        folder_path = os.path.join(path_to_folder, folder_name)\n",
        "        if os.path.isdir(folder_path):\n",
        "            \n",
        "            # Find the X_ED_seg.nii file in the current folder\n",
        "            if train_set :\n",
        "              ED_seg_path = os.path.join(folder_path, f\"{folder_name}_ED_seg.nii\")\n",
        "              ES_seg_path = os.path.join(folder_path, f\"{folder_name}_ES_seg.nii\")\n",
        "            else :\n",
        "              ED_seg_path = os.path.join(folder_path, f\"{folder_name}_full_ED_seg.nii\")\n",
        "              ES_seg_path = os.path.join(folder_path, f\"{folder_name}_full_ES_seg.nii\")\n",
        "            if os.path.isfile(ED_seg_path):\n",
        "              features_list = []\n",
        "              n = int(folder_name)\n",
        "              # Load the image using nibabel\n",
        "              ED_seg = nib.load(ED_seg_path)\n",
        "              ES_seg = nib.load(ES_seg_path)\n",
        "              # compute volumes and thickness\n",
        "              thickness = muscle_thickness(ED_seg) \n",
        "              EDV_myocardium = voxel_volume(ED_seg, myocardium)\n",
        "              ESV_myocardium = voxel_volume(ES_seg, myocardium)\n",
        "              EDV_left = voxel_volume(ED_seg, left_ventricle)\n",
        "              ESV_left = voxel_volume(ES_seg, left_ventricle)\n",
        "              EDV_right = voxel_volume(ED_seg, right_ventricle)\n",
        "              ESV_right = voxel_volume(ES_seg, right_ventricle)\n",
        "                            \n",
        "              features_list.append(muscle_thickness(ED_seg))\n",
        "              features_list.append(EDV_myocardium)\n",
        "              features_list.append(ESV_myocardium)\n",
        "              features_list.append(EDV_left)\n",
        "              features_list.append(ESV_left)\n",
        "              features_list.append(EDV_right)\n",
        "              features_list.append(ESV_right)\n",
        "              features_list.append(ejection_fraction(EDV_left, ESV_left))\n",
        "              features_list.append(ejection_fraction(EDV_right, ESV_right))\n",
        "              features_list.append(EDV_left/EDV_right) #post-challenge comment : should be the inverse \n",
        "              features_list.append(ESV_left/ESV_right) #post-challenge comment : should be the inverse \n",
        "              features_list.append(EDV_myocardium/EDV_left)\n",
        "              features_list.append(ESV_myocardium/ESV_left)\n",
        "              if train_set :\n",
        "                features_list.append(train_classes.loc[n-1]['Weight'])\n",
        "                features_list.append(train_classes.loc[n-1]['Height'])\n",
        "                features[n-1] = features_list\n",
        "              else: \n",
        "                features_list.append(test_classes.loc[n-101]['Weight'])\n",
        "                features_list.append(test_classes.loc[n-101]['Height'])\n",
        "                features[n-101] = features_list\n",
        "              \n",
        "    for line in features :    \n",
        "      f.write(' '.join([str(elem) for elem in line]))\n",
        "      f.write('\\n')\n",
        "    if train_set :\n",
        "      files.download('features_train_heffernan.txt')\n",
        "    else:\n",
        "      files.download('features_test_heffernan.txt')\n",
        "    return features\n",
        "\n"
      ],
      "metadata": {
        "id": "vUPDgQJ9PFj5"
      },
      "execution_count": null,
      "outputs": []
    },
    {
      "cell_type": "markdown",
      "source": [
        "# PREPROCESSING : LEFT VENTRICLE SEGMENTATION\n",
        "I want to segment the left ventricle on the test set. I'll first try to do this without machine learning : I'm considering the zone inside the myocardium as the left ventricle."
      ],
      "metadata": {
        "id": "qAheaSK1taFv"
      }
    },
    {
      "cell_type": "code",
      "source": [
        "def segment_left_ventricle(path_to_folder):\n",
        "  \"\"\"\n",
        "  Iterates through the folders in `path_to_folder` to segment the left ventricle from both the XXX_ED_seg.nii and XXX_ES_seg.nii.\n",
        "  The left ventricle is seen as the zone contained by the myocardium. \n",
        "  The full segmentations are saved in the corresponding XXX folder as XXX_ED_seg_full.nii or XXX_ES_seg_full.nii.\n",
        "  Parameters :\n",
        "  ------------\n",
        "  `path_to_folder`:the path to the `Test`folder. For example, \"/content/challenge/Test\"\n",
        "\n",
        "  Returns :\n",
        "  ------------\n",
        "  None.\n",
        "  \"\"\"\n",
        "  for folder_name in os.listdir(path_to_folder):\n",
        "          folder_path = os.path.join(path_to_folder, folder_name)\n",
        "          if os.path.isdir(folder_path):\n",
        "              # Find the X_ED_seg.nii and ES files in the current folder\n",
        "              ED_seg_path = os.path.join(folder_path, f\"{folder_name}_ED_seg.nii\")\n",
        "              ES_seg_path = os.path.join(folder_path, f\"{folder_name}_ES_seg.nii\")\n",
        "              if os.path.isfile(ED_seg_path) and os.path.isfile(ES_seg_path): #to be sure the files are found\n",
        "                ED_nib = nib.load(ED_seg_path)\n",
        "                ED_seg = ED_nib.get_fdata()\n",
        "                ES_nib = nib.load(ES_seg_path)\n",
        "                ES_seg = ES_nib.get_fdata()\n",
        "                # creating masks for the myocardium on ED and ES segmentations\n",
        "                new_ED_seg = ED_seg.copy()\n",
        "                new_ES_seg = ES_seg.copy()\n",
        "                new_ED_seg[new_ED_seg != myocardium] = 0\n",
        "                new_ES_seg[new_ES_seg != myocardium] = 0\n",
        "                new_ED_seg[new_ED_seg == myocardium] = 1\n",
        "                new_ES_seg[new_ES_seg == myocardium] = 1\n",
        "                ES_array = np.zeros(new_ES_seg.shape)\n",
        "                ED_array = np.zeros(new_ED_seg.shape)\n",
        "                \n",
        "                for n in range(new_ED_seg.shape[2]): #diastole\n",
        "                  slice = new_ED_seg[:,:,n]\n",
        "                  # Apply binary_fill_holes() to the slice\n",
        "                  interior = ndi.binary_fill_holes(slice)\n",
        "                  # Set the values of the pixels inside the contour to the left_ventricle label\n",
        "                  slice[interior] = left_ventricle*(slice[interior]==0)\n",
        "                  ED_array[:,:,n] = slice\n",
        "                for n in range(new_ES_seg.shape[2]): #systole\n",
        "                  slice = new_ES_seg[:,:,n]\n",
        "                  # Apply binary_fill_holes() to the slice\n",
        "                  interior = ndi.binary_fill_holes(slice)\n",
        "                  # Set the values of the pixels inside the contour to the left_ventricle label\n",
        "                  slice[interior] = left_ventricle*(slice[interior]==0)\n",
        "                  ES_array[:,:,n] = slice\n",
        "              \n",
        "                # Convert the new_images back to a Nibabel image object\n",
        "                new_ED_seg =  nib.Nifti1Image(np.floor(ED_array), ED_nib.affine, ED_nib.header).get_fdata()\n",
        "                final_ED_seg = nib.Nifti1Image(np.floor(ED_seg + new_ED_seg), ED_nib.affine, ED_nib.header)\n",
        "                new_ES_seg =  nib.Nifti1Image(np.floor(ES_array), ES_nib.affine, ES_nib.header).get_fdata()\n",
        "                final_ES_seg = nib.Nifti1Image(np.floor(ES_seg + new_ES_seg), ES_nib.affine, ES_nib.header)\n",
        "                # Save the modified image to a file\n",
        "                nib.save(final_ED_seg, os.path.join(folder_path, f\"{folder_name}_full_ED_seg.nii\"))\n",
        "                nib.save(final_ES_seg, os.path.join(folder_path, f\"{folder_name}_full_ES_seg.nii\"))"
      ],
      "metadata": {
        "id": "U9q66uHCvv0W"
      },
      "execution_count": null,
      "outputs": []
    },
    {
      "cell_type": "code",
      "source": [
        "# see if it works\n",
        "\n",
        "if Test :\n",
        "  image = nib.load(my_path + '/Test/102/102_ED_seg.nii')\n",
        "  img_data=image.get_fdata()\n",
        "  #print(\"image shape:\",image.shape)\n",
        "  img = np.array(img_data)[:,:,4]\n",
        "\n",
        "  fig, ax = plt.subplots()\n",
        "  im = ax.imshow(img)\n",
        "\n",
        "  # Add a colorbar next to the image\n",
        "  cbar = fig.colorbar(im, ax=ax, ticks = [0, 1, 2, 3])\n",
        "  cbar.ax.set_ylabel('Value', rotation=270)\n",
        "\n",
        "  # Show the plot\n",
        "  plt.show()  \n",
        "\n",
        "  image = nib.load(my_path + '/Test/102/102_full_ED_seg.nii')\n",
        "  img_data=image.get_fdata()\n",
        "  #print(\"image shape:\",image.shape)\n",
        "  img = np.array(img_data)[:,:,4]\n",
        "\n",
        "  fig, ax = plt.subplots()\n",
        "  im = ax.imshow(img)\n",
        "\n",
        "  # Add a colorbar next to the image\n",
        "  cbar = fig.colorbar(im, ax=ax, ticks = [0, 1, 2, 3])\n",
        "  cbar.ax.set_ylabel('Value', rotation=270)\n",
        "\n",
        "  # Show the plot\n",
        "  plt.show()  "
      ],
      "metadata": {
        "id": "gVE1P4rN3baY"
      },
      "execution_count": null,
      "outputs": []
    },
    {
      "cell_type": "markdown",
      "source": [
        "\n",
        "# Building the training test sets"
      ],
      "metadata": {
        "id": "ZxM4f8UgmuiX"
      }
    },
    {
      "cell_type": "markdown",
      "source": [
        "Now, we'll build the training-test set (or training-validation-test). The following function is especially useful if you want to reuse previously computed features from a file."
      ],
      "metadata": {
        "id": "zfoDgMckxnUM"
      }
    },
    {
      "cell_type": "code",
      "source": [
        "def build_training_test_set(csv_label_path, train_path=None, test_path=None, train_features_list=None, test_features_list= None, reading_from_file = True):\n",
        "  \"\"\"\n",
        "  Builds the training and test sets, either from files or from already existing lists (both training and test set must have the same option, not a mix of list and file).\n",
        "\n",
        "  Parameters:\n",
        "  -----------\n",
        "  `csv_label_path`: string\n",
        "  The path to the file containing the labels for the training set. For example, \"/content/challenge/metaDataTrain.csv\".\n",
        "  `train_path`: string\n",
        "  path to the file containing the features for the training set. For example, \"/content/challenge/train_features.txt\".\n",
        "  `test_path`: string \n",
        "  path to the file containing the features for the test set. For example, \"/content/challenge/test_features.txt\".\n",
        "  `train_features_list`,`test_features_list`: lists, None by default.\n",
        "  if the features to use are already stored in a list, they can be passed directly through those argument.\n",
        "  `reading_from_file`: boolean \n",
        "  if True, then the features will be read from the file at `my_path`, such that each feature is separated by a space \" \" and each line corresponds to one subject.\n",
        " \n",
        "  Returns : \n",
        "  -----------\n",
        "  Training features, training labels, test features as tensors. Training and test features are normalised, with the training mean and standard deviation, to prevent data leakage.\n",
        "\n",
        "  \"\"\"\n",
        "  ############# training features ##############\n",
        "  train_list = []\n",
        "  if reading_from_file :\n",
        "    with open(train_path,mode='r') as f:\n",
        "        lines = f.readlines()\n",
        "        for line in lines :\n",
        "            temp = []\n",
        "            for i in line.split(\" \") :\n",
        "                temp.append(float(i))\n",
        "            train_list.append(temp)\n",
        "  else :\n",
        "    train_list = train_features_list\n",
        "\n",
        "  train_features = torch.Tensor(train_list)\n",
        "  m = torch.mean(train_features,axis=0)\n",
        "  std_dev = torch.std(train_features,axis=0)\n",
        "  train_features = (train_features - m) / std_dev\n",
        "\n",
        "  ############### test features #############\n",
        "  test_list = []\n",
        "  if reading_from_file :\n",
        "    #creating the features test set by reading the content of the file\n",
        "    with open(test_path,mode='r') as f:\n",
        "        lines = f.readlines()\n",
        "        for line in lines :\n",
        "            temp = []\n",
        "            for i in line.split(\" \") :\n",
        "                temp.append(float(i))\n",
        "            test_list.append(temp)\n",
        "  else : \n",
        "    test_list = test_features_list\n",
        "\n",
        "  test_features = torch.Tensor(test_list) #set must be Tensor\n",
        "  test_features = (test_features - m) / std_dev #use train mean and standard deviation (defined with train_features) to normalise, to avoid data leakage\n",
        "  #print(test_features)\n",
        "\n",
        "  ############## training labels ################\n",
        "  train_label_list = []\n",
        "  with open(csv_label_path, newline='') as csvfile:\n",
        "      reader = csv.DictReader(csvfile)\n",
        "      for row in reader:\n",
        "          el = [0]*5\n",
        "          el[int(row['Category'])] = 1\n",
        "          train_label_list.append(el)\n",
        "  train_label = torch.Tensor(train_label_list)\n",
        "\n",
        "  return train_features, train_label, test_features"
      ],
      "metadata": {
        "id": "uoKVETE0xlHY"
      },
      "execution_count": null,
      "outputs": []
    },
    {
      "cell_type": "code",
      "source": [
        "#extract all the features\n",
        "X = extract_features(train_path)\n",
        "X_test = extract_features(test_path, train_set = False)"
      ],
      "metadata": {
        "colab": {
          "base_uri": "https://localhost:8080/",
          "height": 17
        },
        "id": "bxIWgj2DzCVc",
        "outputId": "fae61df1-9e5e-43aa-d2ae-ef3e746a43a7"
      },
      "execution_count": null,
      "outputs": [
        {
          "output_type": "display_data",
          "data": {
            "text/plain": [
              "<IPython.core.display.Javascript object>"
            ],
            "application/javascript": [
              "\n",
              "    async function download(id, filename, size) {\n",
              "      if (!google.colab.kernel.accessAllowed) {\n",
              "        return;\n",
              "      }\n",
              "      const div = document.createElement('div');\n",
              "      const label = document.createElement('label');\n",
              "      label.textContent = `Downloading \"${filename}\": `;\n",
              "      div.appendChild(label);\n",
              "      const progress = document.createElement('progress');\n",
              "      progress.max = size;\n",
              "      div.appendChild(progress);\n",
              "      document.body.appendChild(div);\n",
              "\n",
              "      const buffers = [];\n",
              "      let downloaded = 0;\n",
              "\n",
              "      const channel = await google.colab.kernel.comms.open(id);\n",
              "      // Send a message to notify the kernel that we're ready.\n",
              "      channel.send({})\n",
              "\n",
              "      for await (const message of channel.messages) {\n",
              "        // Send a message to notify the kernel that we're ready.\n",
              "        channel.send({})\n",
              "        if (message.buffers) {\n",
              "          for (const buffer of message.buffers) {\n",
              "            buffers.push(buffer);\n",
              "            downloaded += buffer.byteLength;\n",
              "            progress.value = downloaded;\n",
              "          }\n",
              "        }\n",
              "      }\n",
              "      const blob = new Blob(buffers, {type: 'application/binary'});\n",
              "      const a = document.createElement('a');\n",
              "      a.href = window.URL.createObjectURL(blob);\n",
              "      a.download = filename;\n",
              "      div.appendChild(a);\n",
              "      a.click();\n",
              "      div.remove();\n",
              "    }\n",
              "  "
            ]
          },
          "metadata": {}
        },
        {
          "output_type": "display_data",
          "data": {
            "text/plain": [
              "<IPython.core.display.Javascript object>"
            ],
            "application/javascript": [
              "download(\"download_8e8e7aa3-802b-4e6d-8952-94c5322b4083\", \"features_train_heffernan.txt\", 16311)"
            ]
          },
          "metadata": {}
        },
        {
          "output_type": "display_data",
          "data": {
            "text/plain": [
              "<IPython.core.display.Javascript object>"
            ],
            "application/javascript": [
              "\n",
              "    async function download(id, filename, size) {\n",
              "      if (!google.colab.kernel.accessAllowed) {\n",
              "        return;\n",
              "      }\n",
              "      const div = document.createElement('div');\n",
              "      const label = document.createElement('label');\n",
              "      label.textContent = `Downloading \"${filename}\": `;\n",
              "      div.appendChild(label);\n",
              "      const progress = document.createElement('progress');\n",
              "      progress.max = size;\n",
              "      div.appendChild(progress);\n",
              "      document.body.appendChild(div);\n",
              "\n",
              "      const buffers = [];\n",
              "      let downloaded = 0;\n",
              "\n",
              "      const channel = await google.colab.kernel.comms.open(id);\n",
              "      // Send a message to notify the kernel that we're ready.\n",
              "      channel.send({})\n",
              "\n",
              "      for await (const message of channel.messages) {\n",
              "        // Send a message to notify the kernel that we're ready.\n",
              "        channel.send({})\n",
              "        if (message.buffers) {\n",
              "          for (const buffer of message.buffers) {\n",
              "            buffers.push(buffer);\n",
              "            downloaded += buffer.byteLength;\n",
              "            progress.value = downloaded;\n",
              "          }\n",
              "        }\n",
              "      }\n",
              "      const blob = new Blob(buffers, {type: 'application/binary'});\n",
              "      const a = document.createElement('a');\n",
              "      a.href = window.URL.createObjectURL(blob);\n",
              "      a.download = filename;\n",
              "      div.appendChild(a);\n",
              "      a.click();\n",
              "      div.remove();\n",
              "    }\n",
              "  "
            ]
          },
          "metadata": {}
        },
        {
          "output_type": "display_data",
          "data": {
            "text/plain": [
              "<IPython.core.display.Javascript object>"
            ],
            "application/javascript": [
              "download(\"download_620dd61c-b098-45bc-9a7e-dffc6fe8faa3\", \"features_test_heffernan.txt\", 8060)"
            ]
          },
          "metadata": {}
        }
      ]
    },
    {
      "cell_type": "code",
      "source": [
        "#train_features, train_label, test_features = build_training_test_set(csv_path, train_path=features_train_path, test_path=features_test_path, reading_from_file = True) #to load from files and not lists\n",
        "\n",
        "train_features, train_label, test_features = build_training_test_set(csv_path,train_features_list = X, test_features_list = X_test, reading_from_file = False) #to load from files and not lists\n",
        "\n",
        "if train_and_validation :\n",
        " train_features,validation_features, train_label, validation_label = train_test_split(train_features, train_label, test_size=0.2, random_state=12)"
      ],
      "metadata": {
        "id": "eFDQd9V-yQtv"
      },
      "execution_count": null,
      "outputs": []
    },
    {
      "cell_type": "markdown",
      "source": [
        "# Machine learning approach"
      ],
      "metadata": {
        "id": "P2vrOrtf0mCO"
      }
    },
    {
      "cell_type": "code",
      "source": [
        "#shuffling the indeces in the training\n",
        "batch_size = 20\n",
        "train_size = len(train_features) \n",
        "nb_feat = len(train_features[0])\n",
        "\n",
        "shuffle_index = [i for i in range(train_size)]\n",
        "random.shuffle(shuffle_index)\n",
        "train_data = [[train_features[i],train_label[i]] for i in shuffle_index]\n",
        "train_data_loader =  DataLoader(train_data, batch_size=batch_size, shuffle=True)\n",
        "\n",
        "feature, label = next(iter(train_data_loader))\n",
        "#print(feature, label)"
      ],
      "metadata": {
        "id": "qACEvrfa0gvE"
      },
      "execution_count": null,
      "outputs": []
    },
    {
      "cell_type": "code",
      "source": [
        "class Net(nn.Module):\n",
        "    def __init__(self):\n",
        "        super().__init__()\n",
        "        self.fc1 = nn.Linear(nb_feat, 32)\n",
        "        self.fc2 = nn.Linear(32, 32)\n",
        "        self.fc3 = nn.Linear(32, 32)\n",
        "        self.fc4 = nn.Linear(32, 32)\n",
        "        #self.fc5 = nn.Linear(32, 32)\n",
        "        self.fc6 = nn.Linear(32, 5)\n",
        "\n",
        "    def forward(self, x):\n",
        "        x = F.relu(self.fc1(x))\n",
        "        x = F.relu(self.fc2(x))\n",
        "        x = F.relu(self.fc3(x))\n",
        "        x = F.relu(self.fc4(x))\n",
        "        #x = F.relu(self.fc5(x))\n",
        "        x = F.softmax(self.fc6(x), dim=1)\n",
        "        return x\n",
        "\n",
        "net = Net()"
      ],
      "metadata": {
        "id": "imbHqnGK0kbo"
      },
      "execution_count": null,
      "outputs": []
    },
    {
      "cell_type": "code",
      "source": [
        "criterion = nn.CrossEntropyLoss()\n",
        "optimizer = optim.Adam(net.parameters(), lr=0.001)"
      ],
      "metadata": {
        "id": "_HAKfbN10v-3"
      },
      "execution_count": null,
      "outputs": []
    },
    {
      "cell_type": "code",
      "source": [
        "number_of_epochs = 35\n",
        "print_period = number_of_epochs // 20\n",
        "loss_list = []\n",
        "mini = 10000\n",
        "accuracy = [] #used only if using a validation set to check accuracy\n",
        "\n",
        "if train_and_validation:\n",
        "  true_label = torch.argmax(validation_label,axis=1)\n",
        "\n",
        "for epoch in range(number_of_epochs): \n",
        "    for step,(features,labels) in enumerate(train_data_loader):\n",
        "        optimizer.zero_grad()\n",
        "        noise = torch.normal(mean=torch.zeros((batch_size,nb_feat)), std=torch.ones((batch_size,nb_feat))*0.01)\n",
        "        outputs = net(features + noise )\n",
        "        loss = criterion(outputs, labels)\n",
        "        loss.backward()\n",
        "        optimizer.step()   \n",
        "        loss_list.append(loss.item())\n",
        "\n",
        "    if train_and_validation:\n",
        "      prediction = torch.argmax(net(validation_features),axis=1)\n",
        "      accuracy.append(sum([int(prediction[i] == true_label[i]) for i in range(len(validation_label))])/len(validation_label)) \n",
        "          \n",
        "    if epoch % print_period == 0 and epoch != 0 :\n",
        "        print_loss = sum(loss_list[-5*print_period:])/(5*print_period)\n",
        "        #print(print_loss)\n",
        "        if print_loss < mini :\n",
        "            mini = print_loss\n",
        "        cumulative_loss = 0\n",
        "\n",
        "if train_and_validation :\n",
        "  plt.plot(accuracy)\n",
        "  plt.title(\"accuracy on validation set\")\n",
        "plt.show()"
      ],
      "metadata": {
        "id": "4pQ5OlpY0yYV"
      },
      "execution_count": null,
      "outputs": []
    },
    {
      "cell_type": "code",
      "source": [
        "#plot sliding average to get a smoother curve\n",
        "conv = 10\n",
        "plt.plot(np.convolve(loss_list,np.ones(conv),mode='valid')/conv)\n",
        "plt.title(\"sliding average of the loss function\")\n",
        "plt.show()"
      ],
      "metadata": {
        "colab": {
          "base_uri": "https://localhost:8080/",
          "height": 452
        },
        "id": "aoZF1GGz00AG",
        "outputId": "cc066b0f-2ccd-4fa1-8d8e-f381225a293e"
      },
      "execution_count": null,
      "outputs": [
        {
          "output_type": "display_data",
          "data": {
            "text/plain": [
              "<Figure size 640x480 with 1 Axes>"
            ],
            "image/png": "[encoded data removed]"
          },
          "metadata": {}
        }
      ]
    },
    {
      "cell_type": "code",
      "source": [
        "# check the accuracy on the training set\n",
        "outputs = net(train_features)\n",
        "prediction = torch.argmax(outputs,axis=1)\n",
        "true_label = torch.argmax(train_label,axis=1)\n",
        "accuracy = sum([int(prediction[i] == true_label[i]) for i in range(train_size)])/train_size\n",
        "print(\"The accuracy on the training set is of :\",accuracy)  \n",
        "print(\"Predicted labels :\",prediction)\n",
        "print(\"True labels :\",true_label)"
      ],
      "metadata": {
        "colab": {
          "base_uri": "https://localhost:8080/"
        },
        "id": "ATCxjUet01x3",
        "outputId": "e5471d38-9be9-49fa-e43c-bcc2dd253e56"
      },
      "execution_count": null,
      "outputs": [
        {
          "output_type": "stream",
          "name": "stdout",
          "text": [
            "The accuracy on the training set is of : 0.98\n",
            "Predicted labels : tensor([2, 2, 2, 2, 2, 2, 2, 2, 2, 2, 2, 2, 2, 2, 2, 2, 2, 2, 2, 2, 3, 0, 3, 3,\n",
            "        3, 3, 3, 3, 3, 3, 3, 3, 3, 3, 3, 3, 3, 3, 3, 3, 1, 1, 1, 1, 1, 1, 1, 1,\n",
            "        1, 1, 1, 1, 1, 1, 1, 1, 1, 1, 1, 1, 0, 0, 0, 0, 0, 0, 4, 0, 0, 0, 0, 0,\n",
            "        0, 0, 0, 0, 0, 0, 0, 0, 4, 4, 4, 4, 4, 4, 4, 4, 4, 4, 4, 4, 4, 4, 4, 4,\n",
            "        4, 4, 4, 4])\n",
            "True labels : tensor([2, 2, 2, 2, 2, 2, 2, 2, 2, 2, 2, 2, 2, 2, 2, 2, 2, 2, 2, 2, 3, 3, 3, 3,\n",
            "        3, 3, 3, 3, 3, 3, 3, 3, 3, 3, 3, 3, 3, 3, 3, 3, 1, 1, 1, 1, 1, 1, 1, 1,\n",
            "        1, 1, 1, 1, 1, 1, 1, 1, 1, 1, 1, 1, 0, 0, 0, 0, 0, 0, 0, 0, 0, 0, 0, 0,\n",
            "        0, 0, 0, 0, 0, 0, 0, 0, 4, 4, 4, 4, 4, 4, 4, 4, 4, 4, 4, 4, 4, 4, 4, 4,\n",
            "        4, 4, 4, 4])\n"
          ]
        }
      ]
    },
    {
      "cell_type": "markdown",
      "source": [
        "Now, we'll get the features for the test set and run our network on it. Be sure to have the proper path to the file containing the features generated from the previous code."
      ],
      "metadata": {
        "id": "eO21aWdm06C-"
      }
    },
    {
      "cell_type": "code",
      "source": [
        "def run_network(test_features):\n",
        "  \"\"\"\n",
        "  Runs the network computed previously on the test set. Saves the result in a file.\n",
        "\n",
        "  Parameters :\n",
        "  ------------\n",
        "  `test_features` : Tensor\n",
        "  The test set containing the features.\n",
        "\n",
        "  Returns :\n",
        "  ------------\n",
        "  A list of the predictions (one label per subject) for the test set.\n",
        "\n",
        "  \"\"\"\n",
        "  test_pred = torch.argmax(net(test_features), axis=1)\n",
        "  print(test_pred)\n",
        "  file_name ='labels_test_heffernan.csv'\n",
        "  with open(file_name, 'w') as f:\n",
        "    f.truncate(0)\n",
        "    f.write('Id,Category\\n')\n",
        "    for i in range(len(test_pred)):\n",
        "      f.write(\"{},{}\\n\".format(i+101,test_pred[i].item()))\n",
        "    files.download(\"labels_test_heffernan.csv\")\n",
        "  return test_pred\n"
      ],
      "metadata": {
        "id": "cv08pSvZ034u"
      },
      "execution_count": null,
      "outputs": []
    },
    {
      "cell_type": "code",
      "source": [
        "test_predictions = run_network(test_features)"
      ],
      "metadata": {
        "colab": {
          "base_uri": "https://localhost:8080/",
          "height": 69
        },
        "id": "OK-V0ojU09SI",
        "outputId": "14f4d016-d4cd-4fcd-fcac-e32a0b095985"
      },
      "execution_count": null,
      "outputs": [
        {
          "output_type": "stream",
          "name": "stdout",
          "text": [
            "tensor([2, 4, 0, 3, 4, 1, 0, 0, 4, 4, 3, 3, 4, 0, 0, 4, 2, 3, 1, 0, 4, 0, 3, 3,\n",
            "        1, 2, 2, 4, 2, 4, 1, 4, 3, 2, 0, 3, 1, 3, 2, 4, 2, 1, 2, 2, 4, 2, 0, 1,\n",
            "        1, 1])\n"
          ]
        },
        {
          "output_type": "display_data",
          "data": {
            "text/plain": [
              "<IPython.core.display.Javascript object>"
            ],
            "application/javascript": [
              "\n",
              "    async function download(id, filename, size) {\n",
              "      if (!google.colab.kernel.accessAllowed) {\n",
              "        return;\n",
              "      }\n",
              "      const div = document.createElement('div');\n",
              "      const label = document.createElement('label');\n",
              "      label.textContent = `Downloading \"${filename}\": `;\n",
              "      div.appendChild(label);\n",
              "      const progress = document.createElement('progress');\n",
              "      progress.max = size;\n",
              "      div.appendChild(progress);\n",
              "      document.body.appendChild(div);\n",
              "\n",
              "      const buffers = [];\n",
              "      let downloaded = 0;\n",
              "\n",
              "      const channel = await google.colab.kernel.comms.open(id);\n",
              "      // Send a message to notify the kernel that we're ready.\n",
              "      channel.send({})\n",
              "\n",
              "      for await (const message of channel.messages) {\n",
              "        // Send a message to notify the kernel that we're ready.\n",
              "        channel.send({})\n",
              "        if (message.buffers) {\n",
              "          for (const buffer of message.buffers) {\n",
              "            buffers.push(buffer);\n",
              "            downloaded += buffer.byteLength;\n",
              "            progress.value = downloaded;\n",
              "          }\n",
              "        }\n",
              "      }\n",
              "      const blob = new Blob(buffers, {type: 'application/binary'});\n",
              "      const a = document.createElement('a');\n",
              "      a.href = window.URL.createObjectURL(blob);\n",
              "      a.download = filename;\n",
              "      div.appendChild(a);\n",
              "      a.click();\n",
              "      div.remove();\n",
              "    }\n",
              "  "
            ]
          },
          "metadata": {}
        },
        {
          "output_type": "display_data",
          "data": {
            "text/plain": [
              "<IPython.core.display.Javascript object>"
            ],
            "application/javascript": [
              "download(\"download_e7a12a0e-ffab-44d1-95f1-962da56a6b59\", \"labels_test_heffernan.csv\", 0)"
            ]
          },
          "metadata": {}
        }
      ]
    },
    {
      "cell_type": "markdown",
      "source": [
        "# Complementary classifications\n",
        " \n",
        "I tried other methods of classifications, whose results weren't quite as good as the machine learning approach. "
      ],
      "metadata": {
        "id": "3sV_4mRx1AWZ"
      }
    },
    {
      "cell_type": "markdown",
      "source": [
        "## Random Forest Classification\n",
        "\n",
        "This approach was mentioned in some of the articles, and since we had implemented it in one of the labs, I thought it would be relevant to try it. The accuracy isn't as high as the one with the machine learning approach but stille produces good results."
      ],
      "metadata": {
        "id": "gLRI5JNR1D1L"
      }
    },
    {
      "cell_type": "code",
      "source": [
        "from sklearn.ensemble import RandomForestClassifier\n",
        "from sklearn.metrics import accuracy_score\n",
        "from sklearn.model_selection import GridSearchCV\n",
        "\n",
        "def run_rfc(train_features, train_label, test_features, validation_features = None, validation_label = None, train_validation = False):\n",
        "  \"\"\"\n",
        "  Finds the best selected parameters for a Random Forest Classifier, fits on the training set then predicts the labels on the test set. A validation set can be used to check the accuracy.\n",
        "  \n",
        "  Parameters :\n",
        "  -------------\n",
        "  `train_features` : tensor\n",
        "  the tensor containing the train features\n",
        "  `train_label` : tensor\n",
        "  The corresponding labels for the train test.\n",
        "  `test_features` : tensor\n",
        "  the tensor containing the test features\n",
        "  `validation_features `,`validation_label` : tensors, None by default.\n",
        "  If `train_validation` = True, then this are used to compute the accuracy of the trained Random Forest Classifier.\n",
        "  `train_validation` : Boolean, False by default.\n",
        "  If True, then a training-validation set is being used to check the accuracy. If False, no validation is done.\n",
        "\n",
        "  Returns:\n",
        "  ------------\n",
        "  A list of the predictions (one label per subject) for the test set.\n",
        "  \"\"\"\n",
        "  RF=RandomForestClassifier(random_state=0)\n",
        "  p_grid_RF = {'min_samples_leaf': [2,3,4,5,6], 'max_features': ['sqrt','log2']}   \n",
        "\n",
        "  grid_RF = GridSearchCV(estimator=RF, param_grid=p_grid_RF, scoring=\"accuracy\", cv=5)\n",
        "  grid_RF.fit(train_features, train_label)\n",
        "\n",
        "  best_params=grid_RF.best_params_\n",
        "  print(\"best parameters for the Random Forest Classifier :\",best_params)\n",
        "\n",
        "  best_params=grid_RF.best_params_\n",
        "  rfc = RandomForestClassifier(n_estimators = 1000, min_samples_leaf=best_params[\"min_samples_leaf\"],max_features=best_params[\"max_features\"], random_state=0)\n",
        "\n",
        "  rfc.fit(train_features, train_label)\n",
        "\n",
        "  if train_validation :\n",
        "    # Predict classes and obtain posterior probability distribution\n",
        "    outputs = torch.Tensor(rfc.predict(validation_features))\n",
        "    prediction = torch.argmax(outputs,axis=1)\n",
        "    true_label = torch.argmax(validation_label,axis=1)\n",
        "    accuracy = accuracy_score(true_label, prediction)\n",
        "    print(\"accuracy on validation set :\",accuracy)  \n",
        "\n",
        "\n",
        "  y_pred = rfc.predict(test_features)\n",
        "  y_pred_max = np.argmax(y_pred, axis=1)\n",
        "  return y_pred_max\n"
      ],
      "metadata": {
        "id": "KY3u6aaQ0_Fy"
      },
      "execution_count": null,
      "outputs": []
    },
    {
      "cell_type": "code",
      "source": [
        "if train_and_validation :\n",
        "  rfc_test_predictions = run_rfc(train_features, train_label, test_features, validation_features, validation_label, True)\n",
        "else : \n",
        "  rfc_test_predictions = run_rfc(train_features, train_label, test_features)\n",
        "  \n",
        "print(\"rfc test predictions :\\n\",rfc_test_predictions)"
      ],
      "metadata": {
        "colab": {
          "base_uri": "https://localhost:8080/"
        },
        "id": "sKmEBlQI1IS8",
        "outputId": "5577ad1d-c201-46a4-e444-d7776108c1a0"
      },
      "execution_count": null,
      "outputs": [
        {
          "output_type": "stream",
          "name": "stdout",
          "text": [
            "best parameters for the Random Forest Classifier : {'max_features': 'sqrt', 'min_samples_leaf': 2}\n",
            "rfc test predictions :\n",
            " [2 4 0 3 4 1 0 3 4 4 3 3 0 0 0 4 2 3 1 0 4 0 3 3 1 2 0 4 2 4 1 4 3 2 0 0 1\n",
            " 3 2 0 2 1 2 1 4 2 0 1 1 1]\n"
          ]
        }
      ]
    },
    {
      "cell_type": "markdown",
      "source": [
        "## K-Nearest Neighbours\n",
        "\n",
        "Out of curiosity, I wanted to see if it was possible to find clusters. And the results are very close to those that Random Forest outputs."
      ],
      "metadata": {
        "id": "KpRvWFJV1KGI"
      }
    },
    {
      "cell_type": "code",
      "source": [
        "from sklearn.neighbors import KNeighborsClassifier\n",
        "\n",
        "def run_knn(train_features, train_label, test_features, validation_features = None, validation_label = None, train_validation = False):\n",
        "  \"\"\"\n",
        "  Finds the best selected parameters for a k-Nearest Neighbours Classifier, fits on the training set then predicts the labels on the test set. A validation set can be used to check the accuracy.\n",
        "  \n",
        "  Parameters :\n",
        "  -------------\n",
        "  `train_features` : tensor\n",
        "  the tensor containing the train features\n",
        "  `train_label` : tensor\n",
        "  The corresponding labels for the train test.\n",
        "  `test_features` : tensor\n",
        "  the tensor containing the test features\n",
        "  `validation_features `,`validation_label` : tensors, None by default.\n",
        "  If `train_validation` = True, then this are used to compute the accuracy of the trained Random Forest Classifier.\n",
        "  `train_validation` : Boolean, False by default.\n",
        "  If True, then a training-validation set is being used to check the accuracy. If False, no validation is done.\n",
        "\n",
        "  Returns:\n",
        "  ------------\n",
        "  A list of the predictions (one label per subject) for the test set.\n",
        "  \"\"\"\n",
        "  p_grid_KNN = {'n_neighbors': [i for i in range(1,10)]}   \n",
        "\n",
        "  knn = KNeighborsClassifier()\n",
        "  grid_KNN = GridSearchCV(estimator=knn, param_grid=p_grid_KNN, scoring=\"accuracy\", cv=5)\n",
        "  grid_KNN.fit(train_features, train_label)\n",
        "\n",
        "  best_params=grid_KNN.best_params_\n",
        "  print(\"The best parameters for KNN are :\",best_params)\n",
        "  # Initialize the KNN model\n",
        "  knn_model = KNeighborsClassifier(n_neighbors=best_params['n_neighbors'])\n",
        "\n",
        "  # Fit the model on the training data\n",
        "  knn_model.fit(train_features, train_label)\n",
        "\n",
        "  if train_validation:\n",
        "    # Make predictions on new data\n",
        "    y_pred = knn_model.predict(validation_features)\n",
        "    y_pred_max = np.argmax(y_pred, axis=1)\n",
        "    true_label = torch.argmax(validation_label,axis=1)\n",
        "    accuracy = accuracy_score(true_label, y_pred_max)\n",
        "    print(\"accuracy prediction on the validation set:\", accuracy)\n",
        "\n",
        "  y_pred = knn_model.predict(test_features)\n",
        "  y_pred_max = np.argmax(y_pred, axis=1)\n",
        "  return y_pred_max\n",
        "\n"
      ],
      "metadata": {
        "id": "DqmImozv1QDB"
      },
      "execution_count": null,
      "outputs": []
    },
    {
      "cell_type": "code",
      "source": [
        "if train_and_validation:\n",
        "  knn_test_predictions = run_knn(train_features, train_label, test_features, validation_features, validation_label, True)\n",
        "else :\n",
        "  knn_test_predictions = run_knn(train_features, train_label, test_features)\n",
        "  \n",
        "print(\"knn test predictions :\\n\", knn_test_predictions)"
      ],
      "metadata": {
        "colab": {
          "base_uri": "https://localhost:8080/"
        },
        "id": "xAFitxUZ1Rzh",
        "outputId": "e8a83532-dda0-4f71-fde4-da0aafc56895"
      },
      "execution_count": null,
      "outputs": [
        {
          "output_type": "stream",
          "name": "stdout",
          "text": [
            "The best parameters for KNN are : {'n_neighbors': 1}\n",
            "knn test predictions :\n",
            " [1 4 0 3 4 1 0 0 4 4 3 3 0 0 0 4 2 3 1 0 4 4 3 3 1 2 2 4 2 4 1 4 3 2 0 3 1\n",
            " 3 2 0 2 1 2 2 4 2 0 1 1 1]\n"
          ]
        }
      ]
    }
  ]
}